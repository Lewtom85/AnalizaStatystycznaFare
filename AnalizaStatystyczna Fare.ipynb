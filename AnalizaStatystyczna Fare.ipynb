{
 "cells": [
  {
   "cell_type": "markdown",
   "id": "059508d6-64b9-4434-85df-3b6177e9e8f2",
   "metadata": {},
   "source": [
    "Analiza statystyczna (Obliczenie rendiej, kwartyli, czy wykresow pudekoywch) dla zmiennej Fare (oplata)."
   ]
  },
  {
   "cell_type": "code",
   "execution_count": 2,
   "id": "78e54e85-806d-415e-b76a-1e1e31181bf0",
   "metadata": {},
   "outputs": [
    {
     "data": {
      "text/html": [
       "<div>\n",
       "<style scoped>\n",
       "    .dataframe tbody tr th:only-of-type {\n",
       "        vertical-align: middle;\n",
       "    }\n",
       "\n",
       "    .dataframe tbody tr th {\n",
       "        vertical-align: top;\n",
       "    }\n",
       "\n",
       "    .dataframe thead th {\n",
       "        text-align: right;\n",
       "    }\n",
       "</style>\n",
       "<table border=\"1\" class=\"dataframe\">\n",
       "  <thead>\n",
       "    <tr style=\"text-align: right;\">\n",
       "      <th></th>\n",
       "      <th>PassengerId</th>\n",
       "      <th>Survived</th>\n",
       "      <th>Pclass</th>\n",
       "      <th>Name</th>\n",
       "      <th>Sex</th>\n",
       "      <th>Age</th>\n",
       "      <th>SibSp</th>\n",
       "      <th>Parch</th>\n",
       "      <th>Ticket</th>\n",
       "      <th>Fare</th>\n",
       "      <th>Cabin</th>\n",
       "      <th>Embarked</th>\n",
       "    </tr>\n",
       "  </thead>\n",
       "  <tbody>\n",
       "    <tr>\n",
       "      <th>0</th>\n",
       "      <td>1</td>\n",
       "      <td>0</td>\n",
       "      <td>3</td>\n",
       "      <td>Braund, Mr. Owen Harris</td>\n",
       "      <td>male</td>\n",
       "      <td>22.0</td>\n",
       "      <td>1</td>\n",
       "      <td>0</td>\n",
       "      <td>A/5 21171</td>\n",
       "      <td>7.2500</td>\n",
       "      <td>NaN</td>\n",
       "      <td>S</td>\n",
       "    </tr>\n",
       "    <tr>\n",
       "      <th>1</th>\n",
       "      <td>2</td>\n",
       "      <td>1</td>\n",
       "      <td>1</td>\n",
       "      <td>Cumings, Mrs. John Bradley (Florence Briggs Th...</td>\n",
       "      <td>female</td>\n",
       "      <td>38.0</td>\n",
       "      <td>1</td>\n",
       "      <td>0</td>\n",
       "      <td>PC 17599</td>\n",
       "      <td>71.2833</td>\n",
       "      <td>C85</td>\n",
       "      <td>C</td>\n",
       "    </tr>\n",
       "    <tr>\n",
       "      <th>2</th>\n",
       "      <td>3</td>\n",
       "      <td>1</td>\n",
       "      <td>3</td>\n",
       "      <td>Heikkinen, Miss. Laina</td>\n",
       "      <td>female</td>\n",
       "      <td>26.0</td>\n",
       "      <td>0</td>\n",
       "      <td>0</td>\n",
       "      <td>STON/O2. 3101282</td>\n",
       "      <td>7.9250</td>\n",
       "      <td>NaN</td>\n",
       "      <td>S</td>\n",
       "    </tr>\n",
       "    <tr>\n",
       "      <th>3</th>\n",
       "      <td>4</td>\n",
       "      <td>1</td>\n",
       "      <td>1</td>\n",
       "      <td>Futrelle, Mrs. Jacques Heath (Lily May Peel)</td>\n",
       "      <td>female</td>\n",
       "      <td>35.0</td>\n",
       "      <td>1</td>\n",
       "      <td>0</td>\n",
       "      <td>113803</td>\n",
       "      <td>53.1000</td>\n",
       "      <td>C123</td>\n",
       "      <td>S</td>\n",
       "    </tr>\n",
       "    <tr>\n",
       "      <th>4</th>\n",
       "      <td>5</td>\n",
       "      <td>0</td>\n",
       "      <td>3</td>\n",
       "      <td>Allen, Mr. William Henry</td>\n",
       "      <td>male</td>\n",
       "      <td>35.0</td>\n",
       "      <td>0</td>\n",
       "      <td>0</td>\n",
       "      <td>373450</td>\n",
       "      <td>8.0500</td>\n",
       "      <td>NaN</td>\n",
       "      <td>S</td>\n",
       "    </tr>\n",
       "    <tr>\n",
       "      <th>...</th>\n",
       "      <td>...</td>\n",
       "      <td>...</td>\n",
       "      <td>...</td>\n",
       "      <td>...</td>\n",
       "      <td>...</td>\n",
       "      <td>...</td>\n",
       "      <td>...</td>\n",
       "      <td>...</td>\n",
       "      <td>...</td>\n",
       "      <td>...</td>\n",
       "      <td>...</td>\n",
       "      <td>...</td>\n",
       "    </tr>\n",
       "    <tr>\n",
       "      <th>886</th>\n",
       "      <td>887</td>\n",
       "      <td>0</td>\n",
       "      <td>2</td>\n",
       "      <td>Montvila, Rev. Juozas</td>\n",
       "      <td>male</td>\n",
       "      <td>27.0</td>\n",
       "      <td>0</td>\n",
       "      <td>0</td>\n",
       "      <td>211536</td>\n",
       "      <td>13.0000</td>\n",
       "      <td>NaN</td>\n",
       "      <td>S</td>\n",
       "    </tr>\n",
       "    <tr>\n",
       "      <th>887</th>\n",
       "      <td>888</td>\n",
       "      <td>1</td>\n",
       "      <td>1</td>\n",
       "      <td>Graham, Miss. Margaret Edith</td>\n",
       "      <td>female</td>\n",
       "      <td>19.0</td>\n",
       "      <td>0</td>\n",
       "      <td>0</td>\n",
       "      <td>112053</td>\n",
       "      <td>30.0000</td>\n",
       "      <td>B42</td>\n",
       "      <td>S</td>\n",
       "    </tr>\n",
       "    <tr>\n",
       "      <th>888</th>\n",
       "      <td>889</td>\n",
       "      <td>0</td>\n",
       "      <td>3</td>\n",
       "      <td>Johnston, Miss. Catherine Helen \"Carrie\"</td>\n",
       "      <td>female</td>\n",
       "      <td>NaN</td>\n",
       "      <td>1</td>\n",
       "      <td>2</td>\n",
       "      <td>W./C. 6607</td>\n",
       "      <td>23.4500</td>\n",
       "      <td>NaN</td>\n",
       "      <td>S</td>\n",
       "    </tr>\n",
       "    <tr>\n",
       "      <th>889</th>\n",
       "      <td>890</td>\n",
       "      <td>1</td>\n",
       "      <td>1</td>\n",
       "      <td>Behr, Mr. Karl Howell</td>\n",
       "      <td>male</td>\n",
       "      <td>26.0</td>\n",
       "      <td>0</td>\n",
       "      <td>0</td>\n",
       "      <td>111369</td>\n",
       "      <td>30.0000</td>\n",
       "      <td>C148</td>\n",
       "      <td>C</td>\n",
       "    </tr>\n",
       "    <tr>\n",
       "      <th>890</th>\n",
       "      <td>891</td>\n",
       "      <td>0</td>\n",
       "      <td>3</td>\n",
       "      <td>Dooley, Mr. Patrick</td>\n",
       "      <td>male</td>\n",
       "      <td>32.0</td>\n",
       "      <td>0</td>\n",
       "      <td>0</td>\n",
       "      <td>370376</td>\n",
       "      <td>7.7500</td>\n",
       "      <td>NaN</td>\n",
       "      <td>Q</td>\n",
       "    </tr>\n",
       "  </tbody>\n",
       "</table>\n",
       "<p>891 rows × 12 columns</p>\n",
       "</div>"
      ],
      "text/plain": [
       "     PassengerId  Survived  Pclass  \\\n",
       "0              1         0       3   \n",
       "1              2         1       1   \n",
       "2              3         1       3   \n",
       "3              4         1       1   \n",
       "4              5         0       3   \n",
       "..           ...       ...     ...   \n",
       "886          887         0       2   \n",
       "887          888         1       1   \n",
       "888          889         0       3   \n",
       "889          890         1       1   \n",
       "890          891         0       3   \n",
       "\n",
       "                                                  Name     Sex   Age  SibSp  \\\n",
       "0                              Braund, Mr. Owen Harris    male  22.0      1   \n",
       "1    Cumings, Mrs. John Bradley (Florence Briggs Th...  female  38.0      1   \n",
       "2                               Heikkinen, Miss. Laina  female  26.0      0   \n",
       "3         Futrelle, Mrs. Jacques Heath (Lily May Peel)  female  35.0      1   \n",
       "4                             Allen, Mr. William Henry    male  35.0      0   \n",
       "..                                                 ...     ...   ...    ...   \n",
       "886                              Montvila, Rev. Juozas    male  27.0      0   \n",
       "887                       Graham, Miss. Margaret Edith  female  19.0      0   \n",
       "888           Johnston, Miss. Catherine Helen \"Carrie\"  female   NaN      1   \n",
       "889                              Behr, Mr. Karl Howell    male  26.0      0   \n",
       "890                                Dooley, Mr. Patrick    male  32.0      0   \n",
       "\n",
       "     Parch            Ticket     Fare Cabin Embarked  \n",
       "0        0         A/5 21171   7.2500   NaN        S  \n",
       "1        0          PC 17599  71.2833   C85        C  \n",
       "2        0  STON/O2. 3101282   7.9250   NaN        S  \n",
       "3        0            113803  53.1000  C123        S  \n",
       "4        0            373450   8.0500   NaN        S  \n",
       "..     ...               ...      ...   ...      ...  \n",
       "886      0            211536  13.0000   NaN        S  \n",
       "887      0            112053  30.0000   B42        S  \n",
       "888      2        W./C. 6607  23.4500   NaN        S  \n",
       "889      0            111369  30.0000  C148        C  \n",
       "890      0            370376   7.7500   NaN        Q  \n",
       "\n",
       "[891 rows x 12 columns]"
      ]
     },
     "execution_count": 2,
     "metadata": {},
     "output_type": "execute_result"
    }
   ],
   "source": [
    "#manipulacja danymi\n",
    "import numpy as np\n",
    "import pandas as pd\n",
    "\n",
    "#wizualizacja danych\n",
    "import matplotlib.pyplot as plt\n",
    "import seaborn as sns\n",
    "\n",
    "# statystyczna analiza danych\n",
    "from scipy import stats\n",
    "\n",
    "#przygotowanie danych\n",
    "from sklearn.preprocessing import StandardScaler, MinMaxScaler\n",
    "dataset = pd.read_csv('titanic.csv')\n",
    "dataset"
   ]
  },
  {
   "cell_type": "code",
   "execution_count": 3,
   "id": "1c2ebe4b-1cd9-4587-ba9c-2057a58944ce",
   "metadata": {},
   "outputs": [
    {
     "name": "stdout",
     "output_type": "stream",
     "text": [
      "(891,)\n"
     ]
    }
   ],
   "source": [
    "fare_values = dataset.loc[dataset['Fare'].notnull(), 'Fare'].values\n",
    "print(fare_values.shape)"
   ]
  },
  {
   "cell_type": "code",
   "execution_count": 4,
   "id": "93c16fb6-9585-4b9a-98b5-d3e5cee83e29",
   "metadata": {},
   "outputs": [
    {
     "data": {
      "image/png": "[encoded data removed]",
      "text/plain": [
       "<Figure size 640x480 with 1 Axes>"
      ]
     },
     "metadata": {},
     "output_type": "display_data"
    }
   ],
   "source": [
    "plt.hist(fare_values, bins=20)\n",
    "plt.show()"
   ]
  },
  {
   "cell_type": "code",
   "execution_count": 6,
   "id": "68ffb92a-35b6-43b8-9e56-d7dd48e04472",
   "metadata": {},
   "outputs": [
    {
     "name": "stdout",
     "output_type": "stream",
     "text": [
      "32.0\n"
     ]
    }
   ],
   "source": [
    "mean_fare = np.round(np.mean(fare_values))\n",
    "print(mean_fare)"
   ]
  },
  {
   "cell_type": "code",
   "execution_count": 7,
   "id": "92264d56-cd78-4dfb-8ff2-f149af6eb7d7",
   "metadata": {},
   "outputs": [
    {
     "data": {
      "image/png": "[encoded data removed]",
      "text/plain": [
       "<Figure size 640x480 with 1 Axes>"
      ]
     },
     "metadata": {},
     "output_type": "display_data"
    }
   ],
   "source": [
    "plt.hist(fare_values, bins=20)\n",
    "plt.axvline(x = mean_fare, color='red', label = 'srednia')\n",
    "plt.legend(loc='upper right')\n",
    "plt.show()"
   ]
  },
  {
   "cell_type": "code",
   "execution_count": 8,
   "id": "7d2c2112-64f3-45f6-be89-b6622f0a62da",
   "metadata": {},
   "outputs": [
    {
     "name": "stdout",
     "output_type": "stream",
     "text": [
      "14.4542\n"
     ]
    }
   ],
   "source": [
    "median_fare = np.median(fare_values)\n",
    "print(median_fare)"
   ]
  },
  {
   "cell_type": "code",
   "execution_count": 9,
   "id": "8b20aaca-7457-4e4f-a9de-66a41ab5c64e",
   "metadata": {},
   "outputs": [
    {
     "data": {
      "image/png": "[encoded data removed]",
      "text/plain": [
       "<Figure size 640x480 with 1 Axes>"
      ]
     },
     "metadata": {},
     "output_type": "display_data"
    }
   ],
   "source": [
    "plt.hist(fare_values, bins=20)\n",
    "plt.axvline(x = mean_fare, color='red', label = 'Srednia')\n",
    "plt.axvline(x = median_fare, color='green', label = 'Mediana')\n",
    "plt.legend(loc='upper right')\n",
    "plt.show()"
   ]
  },
  {
   "cell_type": "code",
   "execution_count": 10,
   "id": "daaff0ef-41cf-4608-aca3-67c9fcf2049a",
   "metadata": {},
   "outputs": [
    {
     "name": "stdout",
     "output_type": "stream",
     "text": [
      "ModeResult(mode=8.05, count=43)\n"
     ]
    }
   ],
   "source": [
    "mode_fare = stats.mode(fare_values)\n",
    "print(mode_fare)"
   ]
  },
  {
   "cell_type": "code",
   "execution_count": 11,
   "id": "d5a9630d-32d6-418c-aa6a-d9de4a5b6869",
   "metadata": {},
   "outputs": [
    {
     "data": {
      "image/png": "[encoded data removed]",
      "text/plain": [
       "<Figure size 640x480 with 1 Axes>"
      ]
     },
     "metadata": {},
     "output_type": "display_data"
    }
   ],
   "source": [
    "plt.hist(fare_values, bins=20)\n",
    "plt.axvline(x = mean_fare, color='red', label = 'Srednia')\n",
    "plt.axvline(x = median_fare, color='green', label = 'Mediana')\n",
    "plt.axvline(x = mode_fare[0], color='orange', label = ' Moda')\n",
    "plt.legend(loc='upper right')\n",
    "plt.show()"
   ]
  },
  {
   "cell_type": "code",
   "execution_count": 12,
   "id": "18f2caca-fd18-4a7d-9291-2a86f9fd2534",
   "metadata": {},
   "outputs": [
    {
     "name": "stdout",
     "output_type": "stream",
     "text": [
      "Q0: 0.0\n",
      "Q1: 8.0\n",
      "Q2: 14.4542\n",
      "Q3: 31.0\n",
      "Q4: 512.0\n"
     ]
    }
   ],
   "source": [
    "q0 = np.quantile(fare_values, 0.0)\n",
    "q1 = np.round(np.quantile(fare_values, 0.25))\n",
    "q3 = np.round(np.quantile(fare_values, 0.75))\n",
    "q4 = np.round(np.quantile(fare_values, 1.0))\n",
    "print(f'Q0: {q0}')\n",
    "print(f'Q1: {q1}')\n",
    "print(f'Q2: {median_fare}')\n",
    "print(f'Q3: {q3}')\n",
    "print(f'Q4: {q4}')"
   ]
  },
  {
   "cell_type": "code",
   "execution_count": 13,
   "id": "f2c53d3c-c7e6-4d55-aaf4-b23bf323c35e",
   "metadata": {},
   "outputs": [
    {
     "data": {
      "image/png": "[encoded data removed]",
      "text/plain": [
       "<Figure size 640x480 with 1 Axes>"
      ]
     },
     "metadata": {},
     "output_type": "display_data"
    }
   ],
   "source": [
    "plt.hist(fare_values, bins=20)\n",
    "plt.axvline(x = mean_fare, color='red', label = 'Srednia')\n",
    "plt.axvline(x = median_fare, color='green', label = 'Mediana')\n",
    "plt.axvline(x = mode_fare[0], color='orange', label = 'Moda')\n",
    "plt.axvline(x = q0, color='black', label = 'Min')\n",
    "plt.axvline(x = q1, color='black', label = 'Q1')\n",
    "plt.axvline(x = q3, color='black', label = 'Q3')\n",
    "plt.axvline(x = q4, color='black', label = 'Max')\n",
    "plt.legend(loc='upper right')\n",
    "plt.show()"
   ]
  },
  {
   "cell_type": "markdown",
   "id": "bc89a2f3-872e-4121-b544-4aa178199c0b",
   "metadata": {},
   "source": [
    "Zakres."
   ]
  },
  {
   "cell_type": "code",
   "execution_count": 14,
   "id": "87b97ffd-4580-4932-8f04-203c185a719d",
   "metadata": {},
   "outputs": [
    {
     "name": "stdout",
     "output_type": "stream",
     "text": [
      "512.3292\n"
     ]
    }
   ],
   "source": [
    "range_fare = max(fare_values) - min(fare_values)\n",
    "print(range_fare)"
   ]
  },
  {
   "cell_type": "markdown",
   "id": "beddb2f9-b6ba-4cf1-91e8-bf475a149419",
   "metadata": {},
   "source": [
    "Rozstep miedzykwartylowy - IQR"
   ]
  },
  {
   "cell_type": "code",
   "execution_count": 15,
   "id": "3f6a7d8b-fc44-4693-9309-32290124dfc4",
   "metadata": {},
   "outputs": [
    {
     "name": "stdout",
     "output_type": "stream",
     "text": [
      "23.0\n"
     ]
    }
   ],
   "source": [
    "iqr = q3 - q1\n",
    "print(iqr)"
   ]
  },
  {
   "cell_type": "markdown",
   "id": "79dc9023-cb3b-483e-9eb6-edd56f767cc0",
   "metadata": {},
   "source": [
    "Wykres pudelkowy."
   ]
  },
  {
   "cell_type": "code",
   "execution_count": 16,
   "id": "35897c79-a43e-4120-88dc-b5228b348742",
   "metadata": {},
   "outputs": [
    {
     "data": {
      "image/png": "[encoded data removed]",
      "text/plain": [
       "<Figure size 640x480 with 1 Axes>"
      ]
     },
     "metadata": {},
     "output_type": "display_data"
    }
   ],
   "source": [
    "plt.boxplot(fare_values)\n",
    "plt.show()"
   ]
  },
  {
   "cell_type": "markdown",
   "id": "510937b4-47c5-4920-b0b3-3ca0639436ab",
   "metadata": {},
   "source": [
    "Wariancja."
   ]
  },
  {
   "cell_type": "code",
   "execution_count": 17,
   "id": "1a095bf2-8f0c-4838-882a-ef292646a782",
   "metadata": {},
   "outputs": [
    {
     "name": "stdout",
     "output_type": "stream",
     "text": [
      "2469.436845743116\n"
     ]
    }
   ],
   "source": [
    "variance_fare = np.var(fare_values, ddof=1)\n",
    "print(variance_fare)"
   ]
  },
  {
   "cell_type": "markdown",
   "id": "e10e077a-bb07-492a-ae55-65f25e934ad6",
   "metadata": {},
   "source": [
    "Odchylenie standardowe."
   ]
  },
  {
   "cell_type": "code",
   "execution_count": 18,
   "id": "29eab064-8f44-4969-b1de-42a6202cca9c",
   "metadata": {},
   "outputs": [
    {
     "name": "stdout",
     "output_type": "stream",
     "text": [
      "49.6934285971809\n"
     ]
    }
   ],
   "source": [
    "print(variance_fare**(1/2))"
   ]
  },
  {
   "cell_type": "code",
   "execution_count": null,
   "id": "361850ba-d14f-49fe-936f-6bb0cbbdd326",
   "metadata": {},
   "outputs": [],
   "source": [
    "Skorzystanie z funkcji std dla obliczenia Odchylenia standardowego."
   ]
  },
  {
   "cell_type": "code",
   "execution_count": 19,
   "id": "29f93789-0cfe-4127-af91-b4f68c9c157f",
   "metadata": {},
   "outputs": [
    {
     "name": "stdout",
     "output_type": "stream",
     "text": [
      "49.6934285971809\n"
     ]
    }
   ],
   "source": [
    "standard_deviation_fare = np.std(fare_values, ddof=1)\n",
    "print(standard_deviation_fare)"
   ]
  },
  {
   "cell_type": "markdown",
   "id": "13e8a855-ba78-480b-b0da-bbf14264e1a2",
   "metadata": {},
   "source": [
    "Skalowanie zmiennej. Standaryzacja."
   ]
  },
  {
   "cell_type": "code",
   "execution_count": 20,
   "id": "d8c24b78-6049-48b2-8ec9-624b5e4333f4",
   "metadata": {},
   "outputs": [
    {
     "data": {
      "image/png": "[encoded data removed]",
      "text/plain": [
       "<Figure size 640x480 with 1 Axes>"
      ]
     },
     "metadata": {},
     "output_type": "display_data"
    },
    {
     "name": "stdout",
     "output_type": "stream",
     "text": [
      "Srednia: 3.987332972840069e-18\n",
      "Odchylenie standardowe: 1.0005616400330457\n"
     ]
    }
   ],
   "source": [
    "scaler_standardized = StandardScaler()\n",
    "standardized_fare_values = scaler_standardized.fit_transform(fare_values.reshape(-1,1))\n",
    "plt.hist(standardized_fare_values, bins=20)\n",
    "plt.axvline(x = standardized_fare_values.mean(), color='red', label = 'Srednia')\n",
    "plt.show()\n",
    "print(f'Srednia: {standardized_fare_values.mean()}')\n",
    "print(f'Odchylenie standardowe: {np.std(standardized_fare_values, ddof=1)}')"
   ]
  },
  {
   "cell_type": "code",
   "execution_count": null,
   "id": "7732b70c-ee9e-414a-8c82-a9da33efc940",
   "metadata": {},
   "outputs": [],
   "source": [
    "Mini Max Scaler."
   ]
  },
  {
   "cell_type": "code",
   "execution_count": 21,
   "id": "d61a80a3-04dc-47d8-b895-ef15978d0342",
   "metadata": {},
   "outputs": [
    {
     "data": {
      "image/png": "[encoded data removed]",
      "text/plain": [
       "<Figure size 640x480 with 1 Axes>"
      ]
     },
     "metadata": {},
     "output_type": "display_data"
    },
    {
     "name": "stdout",
     "output_type": "stream",
     "text": [
      "Srednia: 0.06285842768394742\n",
      "Odchylenie standardowe: 0.09699511290236998\n"
     ]
    }
   ],
   "source": [
    "scaler_MinMax = MinMaxScaler()\n",
    "normalized_fare_values = scaler_MinMax.fit_transform(fare_values.reshape(-1, 1))\n",
    "plt.hist(normalized_fare_values, bins=20)\n",
    "plt.axvline(x = normalized_fare_values.mean(), color='red', label = 'Srednia')\n",
    "plt.show()\n",
    "print(f'Srednia: {normalized_fare_values.mean()}')\n",
    "print(f'Odchylenie standardowe: {np.std(normalized_fare_values, ddof=1)}')"
   ]
  },
  {
   "cell_type": "markdown",
   "id": "4b1b5079-02cd-429a-b7c7-c786de946415",
   "metadata": {},
   "source": [
    "Korelacja -suma rodzenstwa lub malzonka na pokladzie."
   ]
  },
  {
   "cell_type": "code",
   "execution_count": 22,
   "id": "c455e043-6575-4a0e-ab69-e9a9f0baf81e",
   "metadata": {},
   "outputs": [
    {
     "data": {
      "image/png": "[encoded data removed]",
      "text/plain": [
       "<Figure size 640x480 with 1 Axes>"
      ]
     },
     "metadata": {},
     "output_type": "display_data"
    }
   ],
   "source": [
    "sibsb_values = dataset.loc[dataset['Fare'].notnull(), 'SibSp'].values\n",
    "plt.scatter(x=fare_values, y=sibsb_values, alpha=0.5)\n",
    "plt.xlabel('Fare')\n",
    "plt.ylabel('SibSp')\n",
    "plt.show()"
   ]
  },
  {
   "cell_type": "markdown",
   "id": "ee14300b-e7fc-4f18-a573-2e360a2133ec",
   "metadata": {},
   "source": [
    "Korelacja Pearsona."
   ]
  },
  {
   "cell_type": "code",
   "execution_count": 23,
   "id": "6df9589b-0c83-404d-8a81-f9297e00a756",
   "metadata": {},
   "outputs": [
    {
     "data": {
      "text/plain": [
       "PearsonRResult(statistic=0.15965104324216095, pvalue=1.6712557684699932e-06)"
      ]
     },
     "execution_count": 23,
     "metadata": {},
     "output_type": "execute_result"
    }
   ],
   "source": [
    "stats.pearsonr(fare_values, sibsb_values)"
   ]
  }
 ],
 "metadata": {
  "kernelspec": {
   "display_name": "Python 3 (ipykernel)",
   "language": "python",
   "name": "python3"
  },
  "language_info": {
   "codemirror_mode": {
    "name": "ipython",
    "version": 3
   },
   "file_extension": ".py",
   "mimetype": "text/x-python",
   "name": "python",
   "nbconvert_exporter": "python",
   "pygments_lexer": "ipython3",
   "version": "3.11.5"
  }
 },
 "nbformat": 4,
 "nbformat_minor": 5
}
